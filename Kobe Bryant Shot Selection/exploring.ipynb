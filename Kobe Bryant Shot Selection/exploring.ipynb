{
 "cells": [
  {
   "cell_type": "code",
   "execution_count": 2,
   "metadata": {
    "collapsed": true
   },
   "outputs": [],
   "source": [
    "import numpy as np\n",
    "import pandas as pd\n",
    "import matplotlib.pyplot as plt\n",
    "from sklearn.model_selection import StratifiedShuffleSplit\n",
    "from sklearn.metrics import accuracy_score, log_loss\n",
    "from sklearn.neighbors import KNeighborsClassifier\n",
    "from sklearn.svm import SVC\n",
    "from sklearn.tree import DecisionTreeClassifier\n",
    "from sklearn.ensemble import RandomForestClassifier, AdaBoostClassifier, GradientBoostingClassifier\n",
    "from sklearn.naive_bayes import GaussianNB, MultinomialNB\n",
    "from sklearn.discriminant_analysis import LinearDiscriminantAnalysis, QuadraticDiscriminantAnalysis\n",
    "from sklearn.linear_model import LogisticRegression\n",
    "from sklearn.preprocessing import OneHotEncoder\n",
    "import warnings\n",
    "warnings.filterwarnings('ignore')"
   ]
  },
  {
   "cell_type": "code",
   "execution_count": 3,
   "metadata": {},
   "outputs": [
    {
     "name": "stdout",
     "output_type": "stream",
     "text": [
      "<class 'pandas.core.frame.DataFrame'>\n",
      "Int64Index: 5000 entries, 0 to 30693\n",
      "Data columns (total 25 columns):\n",
      "action_type           5000 non-null object\n",
      "combined_shot_type    5000 non-null object\n",
      "game_event_id         5000 non-null int64\n",
      "game_id               5000 non-null int64\n",
      "lat                   5000 non-null float64\n",
      "loc_x                 5000 non-null int64\n",
      "loc_y                 5000 non-null int64\n",
      "lon                   5000 non-null float64\n",
      "minutes_remaining     5000 non-null int64\n",
      "period                5000 non-null int64\n",
      "playoffs              5000 non-null int64\n",
      "season                5000 non-null object\n",
      "seconds_remaining     5000 non-null int64\n",
      "shot_distance         5000 non-null int64\n",
      "shot_made_flag        0 non-null float64\n",
      "shot_type             5000 non-null object\n",
      "shot_zone_area        5000 non-null object\n",
      "shot_zone_basic       5000 non-null object\n",
      "shot_zone_range       5000 non-null object\n",
      "team_id               5000 non-null int64\n",
      "team_name             5000 non-null object\n",
      "game_date             5000 non-null object\n",
      "matchup               5000 non-null object\n",
      "opponent              5000 non-null object\n",
      "shot_id               5000 non-null int64\n",
      "dtypes: float64(3), int64(11), object(11)\n",
      "memory usage: 1015.6+ KB\n",
      "<class 'pandas.core.frame.DataFrame'>\n",
      "Int64Index: 25697 entries, 1 to 30696\n",
      "Data columns (total 25 columns):\n",
      "action_type           25697 non-null object\n",
      "combined_shot_type    25697 non-null object\n",
      "game_event_id         25697 non-null int64\n",
      "game_id               25697 non-null int64\n",
      "lat                   25697 non-null float64\n",
      "loc_x                 25697 non-null int64\n",
      "loc_y                 25697 non-null int64\n",
      "lon                   25697 non-null float64\n",
      "minutes_remaining     25697 non-null int64\n",
      "period                25697 non-null int64\n",
      "playoffs              25697 non-null int64\n",
      "season                25697 non-null object\n",
      "seconds_remaining     25697 non-null int64\n",
      "shot_distance         25697 non-null int64\n",
      "shot_made_flag        25697 non-null float64\n",
      "shot_type             25697 non-null object\n",
      "shot_zone_area        25697 non-null object\n",
      "shot_zone_basic       25697 non-null object\n",
      "shot_zone_range       25697 non-null object\n",
      "team_id               25697 non-null int64\n",
      "team_name             25697 non-null object\n",
      "game_date             25697 non-null object\n",
      "matchup               25697 non-null object\n",
      "opponent              25697 non-null object\n",
      "shot_id               25697 non-null int64\n",
      "dtypes: float64(3), int64(11), object(11)\n",
      "memory usage: 5.1+ MB\n"
     ]
    }
   ],
   "source": [
    "o_data  = pd.read_csv('data/data.csv', header=0)\n",
    "test_data = o_data[o_data['shot_made_flag'].isnull()]\n",
    "\n",
    "test_data.info()\n",
    "train_data = o_data[~o_data['shot_made_flag'].isnull()]\n",
    "train_data.info()\n",
    "full_data = [train_data, test_data]"
   ]
  },
  {
   "cell_type": "code",
   "execution_count": 4,
   "metadata": {},
   "outputs": [
    {
     "data": {
      "text/plain": [
       "0      1\n",
       "7      8\n",
       "16    17\n",
       "19    20\n",
       "32    33\n",
       "Name: shot_id, dtype: int64"
      ]
     },
     "execution_count": 4,
     "metadata": {},
     "output_type": "execute_result"
    }
   ],
   "source": [
    "shot_ids = full_data[1]['shot_id']\n",
    "shot_ids.head()"
   ]
  },
  {
   "cell_type": "markdown",
   "metadata": {},
   "source": [
    "## Feature Engineering"
   ]
  },
  {
   "cell_type": "markdown",
   "metadata": {},
   "source": [
    "### 投篮类型"
   ]
  },
  {
   "cell_type": "code",
   "execution_count": 5,
   "metadata": {},
   "outputs": [
    {
     "name": "stdout",
     "output_type": "stream",
     "text": [
      "        shot_type  shot_made_flag\n",
      "0  2PT Field Goal           20285\n",
      "1  3PT Field Goal            5412\n"
     ]
    },
    {
     "data": {
      "image/png": "[encoded data removed]",
      "text/plain": [
       "<matplotlib.figure.Figure at 0x7f7c83369b38>"
      ]
     },
     "metadata": {},
     "output_type": "display_data"
    }
   ],
   "source": [
    "def plotBar(shot_aau, title):\n",
    "    cols = shot_aau.columns\n",
    "    plt.title(title)\n",
    "    plt.bar(range(shot_aau.shape[0]), shot_aau[cols[1]],\\\n",
    "        color='lightblue',align='center', width=0.8)\n",
    "    plt.xticks(range(shot_aau.shape[0]),shot_aau[cols[0]])#, rotation=90)\n",
    "    plt.xlim([-1, shot_aau.shape[0]])\n",
    "    plt.tight_layout()\n",
    "    plt.show()\n",
    "def plotGroupRatioBar(feature):\n",
    "    g = train_data[[feature, 'shot_made_flag']].groupby(feature, as_index=False)\n",
    "    print(g.count())\n",
    "    plotBar(g.mean().head(40), 'shot made ratio')\n",
    "#     print(shot_type_g)\n",
    "plotGroupRatioBar('shot_type')"
   ]
  },
  {
   "cell_type": "markdown",
   "metadata": {},
   "source": [
    "### 投篮距离, 影响较大的因素"
   ]
  },
  {
   "cell_type": "code",
   "execution_count": 6,
   "metadata": {
    "scrolled": true
   },
   "outputs": [
    {
     "name": "stdout",
     "output_type": "stream",
     "text": [
      "    shot_distance  shot_made_flag\n",
      "0               0            4608\n",
      "1               1             522\n",
      "2               2             483\n",
      "3               3             319\n",
      "4               4             317\n",
      "5               5             444\n",
      "6               6             557\n",
      "7               7             603\n",
      "8               8             568\n",
      "9               9             528\n",
      "10             10             588\n",
      "11             11             602\n",
      "12             12             644\n",
      "13             13             786\n",
      "14             14             894\n",
      "15             15             972\n",
      "16             16            1165\n",
      "17             17            1225\n",
      "18             18            1195\n",
      "19             19            1131\n",
      "20             20             993\n",
      "21             21             671\n",
      "22             22             571\n",
      "23             23             493\n",
      "24             24            1263\n",
      "25             25            1631\n",
      "26             26            1060\n",
      "27             27             450\n",
      "28             28             166\n",
      "29             29              67\n",
      "..            ...             ...\n",
      "44             44               4\n",
      "45             45               2\n",
      "46             46               2\n",
      "47             47               3\n",
      "48             48               3\n",
      "49             49               2\n",
      "50             50               3\n",
      "51             51               2\n",
      "52             52               2\n",
      "53             53               1\n",
      "54             54               1\n",
      "55             55               3\n",
      "56             56               3\n",
      "57             57               1\n",
      "58             58               4\n",
      "59             59               2\n",
      "60             60               2\n",
      "61             61               1\n",
      "62             62               4\n",
      "63             63               2\n",
      "64             64               2\n",
      "65             65               1\n",
      "66             67               2\n",
      "67             68               2\n",
      "68             69               1\n",
      "69             70               2\n",
      "70             71               1\n",
      "71             74               3\n",
      "72             77               1\n",
      "73             79               1\n",
      "\n",
      "[74 rows x 2 columns]\n"
     ]
    },
    {
     "data": {
      "image/png": "[encoded data removed]",
      "text/plain": [
       "<matplotlib.figure.Figure at 0x7f7c812dcba8>"
      ]
     },
     "metadata": {},
     "output_type": "display_data"
    }
   ],
   "source": [
    "plotGroupRatioBar('shot_distance')"
   ]
  },
  {
   "cell_type": "markdown",
   "metadata": {},
   "source": [
    "### 投篮类型.粒度太细,某些类型的投篮次数只有个位数"
   ]
  },
  {
   "cell_type": "code",
   "execution_count": 7,
   "metadata": {
    "collapsed": true
   },
   "outputs": [],
   "source": [
    "# action_type_group = train_data[['action_type', 'shot_made_flag']].groupby('action_type', as_index=False)\n",
    "# action_type_group.describe()"
   ]
  },
  {
   "cell_type": "code",
   "execution_count": 8,
   "metadata": {},
   "outputs": [
    {
     "name": "stdout",
     "output_type": "stream",
     "text": [
      "  combined_shot_type  shot_made_flag\n",
      "0          Bank Shot             120\n",
      "1               Dunk            1056\n",
      "2          Hook Shot             127\n",
      "3          Jump Shot           19710\n",
      "4              Layup            4532\n",
      "5           Tip Shot             152\n"
     ]
    },
    {
     "data": {
      "image/png": "[encoded data removed]",
      "text/plain": [
       "<matplotlib.figure.Figure at 0x7f7c81287f60>"
      ]
     },
     "metadata": {},
     "output_type": "display_data"
    }
   ],
   "source": [
    "plotGroupRatioBar('combined_shot_type')"
   ]
  },
  {
   "cell_type": "code",
   "execution_count": 9,
   "metadata": {},
   "outputs": [
    {
     "name": "stdout",
     "output_type": "stream",
     "text": [
      "          shot_zone_area  shot_made_flag\n",
      "0         Back Court(BC)              72\n",
      "1              Center(C)           11289\n",
      "2   Left Side Center(LC)            3364\n",
      "3           Left Side(L)            3132\n",
      "4  Right Side Center(RC)            3981\n",
      "5          Right Side(R)            3859\n"
     ]
    },
    {
     "data": {
      "image/png": "[encoded data removed]",
      "text/plain": [
       "<matplotlib.figure.Figure at 0x7f7c8134cd30>"
      ]
     },
     "metadata": {},
     "output_type": "display_data"
    }
   ],
   "source": [
    "plotGroupRatioBar('shot_zone_area')"
   ]
  },
  {
   "cell_type": "code",
   "execution_count": 10,
   "metadata": {},
   "outputs": [
    {
     "name": "stdout",
     "output_type": "stream",
     "text": [
      "         shot_zone_basic  shot_made_flag\n",
      "0      Above the Break 3            4720\n",
      "1              Backcourt              60\n",
      "2  In The Paint (Non-RA)            3880\n",
      "3          Left Corner 3             240\n",
      "4              Mid-Range           10532\n",
      "5        Restricted Area            5932\n",
      "6         Right Corner 3             333\n"
     ]
    },
    {
     "data": {
      "image/png": "[encoded data removed]",
      "text/plain": [
       "<matplotlib.figure.Figure at 0x7f7c81189860>"
      ]
     },
     "metadata": {},
     "output_type": "display_data"
    }
   ],
   "source": [
    "plotGroupRatioBar('shot_zone_basic')"
   ]
  },
  {
   "cell_type": "code",
   "execution_count": 11,
   "metadata": {},
   "outputs": [
    {
     "name": "stdout",
     "output_type": "stream",
     "text": [
      "   opponent  shot_made_flag\n",
      "0       ATL             438\n",
      "1       BKN              45\n",
      "2       BOS             783\n",
      "3       CHA             500\n",
      "4       CHI             516\n",
      "5       CLE             514\n",
      "6       DAL            1033\n",
      "7       DEN            1352\n",
      "8       DET             587\n",
      "9       GSW            1143\n",
      "10      HOU            1399\n",
      "11      IND             626\n",
      "12      LAC            1074\n",
      "13      MEM             871\n",
      "14      MIA             517\n",
      "15      MIL             507\n",
      "16      MIN            1219\n",
      "17      NJN             422\n",
      "18      NOH             475\n",
      "19      NOP             287\n",
      "20      NYK             566\n",
      "21      OKC             561\n",
      "22      ORL             604\n",
      "23      PHI             603\n",
      "24      PHX            1535\n",
      "25      POR            1292\n",
      "26      SAC            1397\n",
      "27      SAS            1638\n",
      "28      SEA             694\n",
      "29      TOR             556\n",
      "30      UTA            1238\n",
      "31      VAN             204\n",
      "32      WAS             501\n"
     ]
    },
    {
     "data": {
      "image/png": "[encoded data removed]",
      "text/plain": [
       "<matplotlib.figure.Figure at 0x7f7c811086a0>"
      ]
     },
     "metadata": {},
     "output_type": "display_data"
    }
   ],
   "source": [
    "plotGroupRatioBar('opponent')"
   ]
  },
  {
   "cell_type": "markdown",
   "metadata": {},
   "source": [
    "除了后面几个赛季,其他赛季命中率相差都不大"
   ]
  },
  {
   "cell_type": "code",
   "execution_count": 12,
   "metadata": {},
   "outputs": [
    {
     "name": "stdout",
     "output_type": "stream",
     "text": [
      "     season  shot_made_flag\n",
      "0   1996-97             383\n",
      "1   1997-98             810\n",
      "2   1998-99             765\n",
      "3   1999-00            1312\n",
      "4   2000-01            1575\n",
      "5   2001-02            1708\n",
      "6   2002-03            1852\n",
      "7   2003-04            1371\n",
      "8   2004-05            1127\n",
      "9   2005-06            1924\n",
      "10  2006-07            1579\n",
      "11  2007-08            1819\n",
      "12  2008-09            1851\n",
      "13  2009-10            1772\n",
      "14  2010-11            1521\n",
      "15  2011-12            1416\n",
      "16  2012-13            1328\n",
      "17  2013-14              59\n",
      "18  2014-15             593\n",
      "19  2015-16             932\n"
     ]
    },
    {
     "data": {
      "image/png": "[encoded data removed]",
      "text/plain": [
       "<matplotlib.figure.Figure at 0x7f7c80fbf2b0>"
      ]
     },
     "metadata": {},
     "output_type": "display_data"
    }
   ],
   "source": [
    "plotGroupRatioBar('season')"
   ]
  },
  {
   "cell_type": "code",
   "execution_count": 13,
   "metadata": {
    "collapsed": true
   },
   "outputs": [],
   "source": [
    "def get_host_or_guest(s):\n",
    "    return 1 if '@' in s else 0\n",
    "for dataset in full_data:\n",
    "    dataset['is_guest'] = dataset['matchup'].apply(get_host_or_guest)\n",
    "    dataset['shot_type'] = dataset['shot_type'].map({'2PT Field Goal':0, '3PT Field Goal': 1})\n",
    "#     ohe = OneHotEncoder(categorical_features=[2, 3, 5, 6, 7])\n",
    "#     dataset = ohe.fit_transform(dataset).toarray()"
   ]
  },
  {
   "cell_type": "markdown",
   "metadata": {},
   "source": [
    "### 主客场"
   ]
  },
  {
   "cell_type": "code",
   "execution_count": 14,
   "metadata": {},
   "outputs": [
    {
     "name": "stdout",
     "output_type": "stream",
     "text": [
      "   is_guest  shot_made_flag\n",
      "0         0           12485\n",
      "1         1           13212\n"
     ]
    },
    {
     "data": {
      "image/png": "[encoded data removed]",
      "text/plain": [
       "<matplotlib.figure.Figure at 0x7f7c80f03ba8>"
      ]
     },
     "metadata": {},
     "output_type": "display_data"
    }
   ],
   "source": [
    "plotGroupRatioBar('is_guest')"
   ]
  },
  {
   "cell_type": "markdown",
   "metadata": {},
   "source": [
    "# 是否是季后赛"
   ]
  },
  {
   "cell_type": "code",
   "execution_count": 15,
   "metadata": {},
   "outputs": [
    {
     "name": "stdout",
     "output_type": "stream",
     "text": [
      "   playoffs  shot_made_flag\n",
      "0         0           21939\n",
      "1         1            3758\n"
     ]
    },
    {
     "data": {
      "image/png": "[encoded data removed]",
      "text/plain": [
       "<matplotlib.figure.Figure at 0x7f7c80edbef0>"
      ]
     },
     "metadata": {},
     "output_type": "display_data"
    }
   ],
   "source": [
    "plotGroupRatioBar('playoffs')"
   ]
  },
  {
   "cell_type": "code",
   "execution_count": 16,
   "metadata": {},
   "outputs": [
    {
     "name": "stdout",
     "output_type": "stream",
     "text": [
      "   period  shot_made_flag\n",
      "0       1            6700\n",
      "1       2            5635\n",
      "2       3            7002\n",
      "3       4            6043\n",
      "4       5             280\n",
      "5       6              30\n",
      "6       7               7\n"
     ]
    },
    {
     "data": {
      "image/png": "[encoded data removed]",
      "text/plain": [
       "<matplotlib.figure.Figure at 0x7f7c8132ff28>"
      ]
     },
     "metadata": {},
     "output_type": "display_data"
    }
   ],
   "source": [
    "#第几节\n",
    "plotGroupRatioBar('period')"
   ]
  },
  {
   "cell_type": "code",
   "execution_count": 17,
   "metadata": {
    "collapsed": true
   },
   "outputs": [],
   "source": [
    "selected_f = ['shot_type', 'shot_distance','season', 'opponent', 'is_guest','shot_zone_area', 'shot_zone_basic', 'combined_shot_type', 'playoffs', 'period']\n",
    "y = train_data['shot_made_flag']\n",
    "train_data = train_data[selected_f]\n",
    "test_data = test_data[selected_f]"
   ]
  },
  {
   "cell_type": "code",
   "execution_count": 18,
   "metadata": {
    "collapsed": true
   },
   "outputs": [],
   "source": [
    "class myNb:\n",
    "    def __init__(self):\n",
    "        self.cProb = {}\n",
    "        self.cCondProb = {}\n",
    "    def fit(self, X_train, y_train):\n",
    "        import numpy as np\n",
    "\n",
    "        # 生还与否的概率\n",
    "        t = len(y_train)\n",
    "        # 生还和死者总数\n",
    "        cNumber = {}\n",
    "        cValues = np.unique(y_train)\n",
    "        #类概率\n",
    "        for cv in cValues:\n",
    "            cNumber[cv] = (y_train == cv).sum()\n",
    "            self.cProb[cv] = cNumber[cv] / t\n",
    "        #求类条件概率\n",
    "        for col in X_train:\n",
    "            if col not in self.cCondProb:\n",
    "                self.cCondProb[col] = {}\n",
    "            for cv in self.cProb:\n",
    "                if cv not in self.cCondProb[col]:\n",
    "                    self.cCondProb[col][cv] = {}\n",
    "                for fv in np.unique(X_train[col]):\n",
    "                    self.cCondProb[col][cv][fv] = ((X_train[col] == fv) & (y_train == cv)).sum() / cNumber[cv]\n",
    "                    if self.cCondProb[col][cv][fv] == 0:\n",
    "                        self.cCondProb[col][cv][fv] = 1e-10\n",
    "\n",
    "    def predict_proba(self, X_test):\n",
    "        y_pred = []\n",
    "        P = [0] * len(self.cProb)\n",
    "        Plog = [0] * len(self.cProb)\n",
    "        for cv in range(0, len(self.cProb)):\n",
    "            Plog[cv] = np.log(self.cProb[cv])\n",
    "        for i in X_test.index:\n",
    "            for cv in range(0, len(self.cProb)):\n",
    "                P[cv] = Plog[cv]\n",
    "                for col in X_test:\n",
    "#                     print(i, col)\n",
    "                    if self.cCondProb[col][cv][X_test.loc[i][col]] == 0:\n",
    "                        print(i, col)\n",
    "                    P[cv] += np.log(self.cCondProb[col][cv][X_test.loc[i][col]])\n",
    "            P = np.exp(P)\n",
    "            P = P / sum(P)\n",
    "#             print(i,P)\n",
    "#             y_pred.append(max(P, key=P.get))\n",
    "#             np.append(y_pred, [P])\n",
    "            y_pred.append(P.tolist())\n",
    "        return np.array(y_pred)\n",
    "\n",
    "    # def predict_proba(self, X_test):"
   ]
  },
  {
   "cell_type": "code",
   "execution_count": 19,
   "metadata": {},
   "outputs": [
    {
     "data": {
      "text/plain": [
       "Int64Index([    1,     2,     3,     4,     5,     6,     8,     9,    10,\n",
       "               11,\n",
       "            ...\n",
       "            30685, 30687, 30688, 30689, 30690, 30691, 30692, 30694, 30695,\n",
       "            30696],\n",
       "           dtype='int64', length=25697)"
      ]
     },
     "execution_count": 19,
     "metadata": {},
     "output_type": "execute_result"
    }
   ],
   "source": [
    "train_data.index\n",
    "# test_data.index"
   ]
  },
  {
   "cell_type": "markdown",
   "metadata": {},
   "source": [
    "# 朴素贝叶斯方法"
   ]
  },
  {
   "cell_type": "code",
   "execution_count": 20,
   "metadata": {
    "collapsed": true
   },
   "outputs": [],
   "source": [
    "nb = myNb()\n",
    "nb.fit(train_data, y)"
   ]
  },
  {
   "cell_type": "code",
   "execution_count": 22,
   "metadata": {},
   "outputs": [
    {
     "name": "stdout",
     "output_type": "stream",
     "text": [
      "log loss: 0.76\n",
      "Accuracy: 0.63\n"
     ]
    }
   ],
   "source": [
    "start = 10000\n",
    "offset = 1000\n",
    "y_pred = nb.predict_proba(train_data.iloc[start:start+offset])\n",
    "# print(y_pred)\n",
    "print('log loss: %.2f' % log_loss(y[start:start+offset].values, y_pred))\n",
    "y_pred_class = (y_pred.T[0]<y_pred.T[1]) * 1\n",
    "print('Accuracy: %.2f' % accuracy_score(y[start:start+offset].values, y_pred_class))"
   ]
  },
  {
   "cell_type": "code",
   "execution_count": 23,
   "metadata": {
    "collapsed": true
   },
   "outputs": [],
   "source": [
    "import time\n",
    "def outPutFile(shot_ids, result, name):\n",
    "    submission = pd.DataFrame({'shot_id': shot_ids, 'shot_made_flag':result})\n",
    "    submission.to_csv(name + str(time.time()) +'.csv', index=False)"
   ]
  },
  {
   "cell_type": "code",
   "execution_count": 24,
   "metadata": {},
   "outputs": [
    {
     "name": "stdout",
     "output_type": "stream",
     "text": [
      "[[ 0.71082605  0.28917395]\n",
      " [ 0.01138356  0.98861644]\n",
      " [ 0.0111746   0.9888254 ]\n",
      " [ 0.70593913  0.29406087]\n",
      " [ 0.71358517  0.28641483]\n",
      " [ 0.67642822  0.32357178]\n",
      " [ 0.88299774  0.11700226]\n",
      " [ 0.70695921  0.29304079]\n",
      " [ 0.69430669  0.30569331]\n",
      " [ 0.63106295  0.36893705]]\n",
      "[[ 0.60541302  0.39458698]\n",
      " [ 0.25569178  0.74430822]\n",
      " [ 0.2555873   0.7444127 ]\n",
      " [ 0.60296956  0.39703044]\n",
      " [ 0.60679258  0.39320742]\n",
      " [ 0.58821411  0.41178589]\n",
      " [ 0.69149887  0.30850113]\n",
      " [ 0.6034796   0.3965204 ]\n",
      " [ 0.59715335  0.40284665]\n",
      " [ 0.56553147  0.43446853]]\n",
      "log loss: 0.66\n"
     ]
    }
   ],
   "source": [
    "myNB_result = nb.predict_proba(test_data)\n",
    "outPutFile(shot_ids, myNB_result.T[1], 'MYNB')\n",
    "\n",
    "\n",
    "\n",
    "print(y_pred[0:10])\n",
    "y_pred_alter = y_pred - (y_pred-0.5) * 0.5\n",
    "print(y_pred_alter[0:10])\n",
    "print('log loss: %.2f' % log_loss(y[start:start+offset].values, y_pred_alter))"
   ]
  },
  {
   "cell_type": "code",
   "execution_count": 25,
   "metadata": {
    "collapsed": true
   },
   "outputs": [],
   "source": [
    "# class_le = LabelEncoder()\n",
    "    \n",
    "train_data = pd.get_dummies(train_data)\n",
    "test_data = pd.get_dummies(test_data)\n",
    "\n",
    "\n",
    "X=train_data.values\n",
    "y=y.values"
   ]
  },
  {
   "cell_type": "code",
   "execution_count": 62,
   "metadata": {},
   "outputs": [
    {
     "name": "stdout",
     "output_type": "stream",
     "text": [
      "Index(['shot_type', 'shot_distance', 'is_guest', 'playoffs', 'period',\n",
      "       'season_1996-97', 'season_1997-98', 'season_1998-99', 'season_1999-00',\n",
      "       'season_2000-01', 'season_2001-02', 'season_2002-03', 'season_2003-04',\n",
      "       'season_2004-05', 'season_2005-06', 'season_2006-07', 'season_2007-08',\n",
      "       'season_2008-09', 'season_2009-10', 'season_2010-11', 'season_2011-12',\n",
      "       'season_2012-13', 'season_2013-14', 'season_2014-15', 'season_2015-16',\n",
      "       'opponent_ATL', 'opponent_BKN', 'opponent_BOS', 'opponent_CHA',\n",
      "       'opponent_CHI', 'opponent_CLE', 'opponent_DAL', 'opponent_DEN',\n",
      "       'opponent_DET', 'opponent_GSW', 'opponent_HOU', 'opponent_IND',\n",
      "       'opponent_LAC', 'opponent_MEM', 'opponent_MIA', 'opponent_MIL',\n",
      "       'opponent_MIN', 'opponent_NJN', 'opponent_NOH', 'opponent_NOP',\n",
      "       'opponent_NYK', 'opponent_OKC', 'opponent_ORL', 'opponent_PHI',\n",
      "       'opponent_PHX', 'opponent_POR', 'opponent_SAC', 'opponent_SAS',\n",
      "       'opponent_SEA', 'opponent_TOR', 'opponent_UTA', 'opponent_VAN',\n",
      "       'opponent_WAS', 'shot_zone_area_Back Court(BC)',\n",
      "       'shot_zone_area_Center(C)', 'shot_zone_area_Left Side Center(LC)',\n",
      "       'shot_zone_area_Left Side(L)', 'shot_zone_area_Right Side Center(RC)',\n",
      "       'shot_zone_area_Right Side(R)', 'shot_zone_basic_Above the Break 3',\n",
      "       'shot_zone_basic_Backcourt', 'shot_zone_basic_In The Paint (Non-RA)',\n",
      "       'shot_zone_basic_Left Corner 3', 'shot_zone_basic_Mid-Range',\n",
      "       'shot_zone_basic_Restricted Area', 'shot_zone_basic_Right Corner 3',\n",
      "       'combined_shot_type_Bank Shot', 'combined_shot_type_Dunk',\n",
      "       'combined_shot_type_Hook Shot', 'combined_shot_type_Jump Shot',\n",
      "       'combined_shot_type_Layup', 'combined_shot_type_Tip Shot'],\n",
      "      dtype='object')\n"
     ]
    }
   ],
   "source": [
    "print(train_data.columns)"
   ]
  },
  {
   "cell_type": "code",
   "execution_count": null,
   "metadata": {
    "collapsed": true
   },
   "outputs": [],
   "source": [
    "def getScore(clf, X, y):\n",
    "    acc = 0\n",
    "    logloss = 0\n",
    "    n_splits = 10\n",
    "    sss = StratifiedShuffleSplit(n_splits=n_splits, test_size=0.1, random_state=0)\n",
    "    for train_index, test_index in sss.split(X, y):\n",
    "        X_train, X_test = X[train_index], X[test_index]\n",
    "        y_train, y_test = y[train_index], y[test_index]\n",
    "        clf.fit(X_train, y_train)\n",
    "        train_predictions = clf.predict(X_test)\n",
    "        acc += accuracy_score(y_test, train_predictions)\n",
    "        train_predictions_proba = clf.predict_proba(X_test)\n",
    "#         print(train_predictions_proba[0:100])\n",
    "        logloss += log_loss(y_test, train_predictions_proba)\n",
    "    acc /= n_splits\n",
    "    logloss /= n_splits\n",
    "    return acc, logloss\n",
    "import sys;print('Python %s on %s' % (sys.version, sys.platform))\n",
    "sys.path.extend(['/home/wangbo/PycharmProjects/kaggle'])"
   ]
  },
  {
   "cell_type": "code",
   "execution_count": 34,
   "metadata": {},
   "outputs": [
    {
     "name": "stdout",
     "output_type": "stream",
     "text": [
      "Python 3.5.2 (default, Nov 17 2016, 17:05:23) \n",
      "[GCC 5.4.0 20160609] on linux\n",
      "0.567821011673 12.7074798642\n",
      "my log reg expend time is: 8.77\n",
      "0.613151750973 0.650547827246\n",
      "my log reg expend time is: 2.07\n"
     ]
    }
   ],
   "source": [
    "import LogReg\n",
    "import importlib\n",
    "# importlib.reload(LogReg)\n",
    "time1 = time.time()\n",
    "clf = LogReg.LogReg(reg=0.1, mini_batches_size = 1000, eta=0.01, max_iter=100)\n",
    "acc, logloss = getScore(clf, X, y)\n",
    "print(acc, logloss)\n",
    "time2 = time.time()\n",
    "print(\"my log reg expend time is: %.2f\" % (time2 - time1))\n",
    "sk_lr = LogisticRegression()\n",
    "acc, logloss = getScore(sk_lr, X, y)\n",
    "print(acc, logloss)\n",
    "time3 = time.time()\n",
    "print(\"my log reg expend time is: %.2f\" % (time3 - time2))"
   ]
  },
  {
   "cell_type": "code",
   "execution_count": 26,
   "metadata": {},
   "outputs": [
    {
     "ename": "SyntaxError",
     "evalue": "unexpected EOF while parsing (<ipython-input-26-33cdf58ec234>, line 10)",
     "output_type": "error",
     "traceback": [
      "\u001b[0;36m  File \u001b[0;32m\"<ipython-input-26-33cdf58ec234>\"\u001b[0;36m, line \u001b[0;32m10\u001b[0m\n\u001b[0;31m    for _ in range(1000):\u001b[0m\n\u001b[0m                         ^\u001b[0m\n\u001b[0;31mSyntaxError\u001b[0m\u001b[0;31m:\u001b[0m unexpected EOF while parsing\n"
     ]
    }
   ],
   "source": [
    "import tensorflow as tf\n",
    "x = tf.placeholder(tf.float32, [None, X.shape[1]])\n",
    "y_ = tf.placeholder(tf.float32, [None])\n",
    "W = tf.Variable(tf.zeros([X.shape[1]]))\n",
    "b = tf.Variable(tf.zeros([1]))\n",
    "\n",
    "y = tf.div(1, tf.exp(-tf.matmul(x, W)))\n",
    "cross_entropy = tf.reduce_mean(y_ * tf.log(y) + (1 - y_) * tf.log(1 - y))\n",
    "train_step = tf.train.GradientDescentOptimizer(0.5).minimize(cross_entropy)\n",
    "for _ in range(1000):\n",
    "    "
   ]
  },
  {
   "cell_type": "code",
   "execution_count": 33,
   "metadata": {},
   "outputs": [
    {
     "data": {
      "text/plain": [
       "1504101100.819154"
      ]
     },
     "execution_count": 33,
     "metadata": {},
     "output_type": "execute_result"
    }
   ],
   "source": [
    "import time\n",
    "time.time()"
   ]
  },
  {
   "cell_type": "code",
   "execution_count": 132,
   "metadata": {
    "scrolled": true
   },
   "outputs": [
    {
     "name": "stderr",
     "output_type": "stream",
     "text": [
      "/usr/local/lib/python3.5/dist-packages/sklearn/discriminant_analysis.py:387: UserWarning: Variables are collinear.\n",
      "  warnings.warn(\"Variables are collinear.\")\n",
      "/usr/local/lib/python3.5/dist-packages/sklearn/discriminant_analysis.py:387: UserWarning: Variables are collinear.\n",
      "  warnings.warn(\"Variables are collinear.\")\n",
      "/usr/local/lib/python3.5/dist-packages/sklearn/discriminant_analysis.py:387: UserWarning: Variables are collinear.\n",
      "  warnings.warn(\"Variables are collinear.\")\n",
      "/usr/local/lib/python3.5/dist-packages/sklearn/discriminant_analysis.py:387: UserWarning: Variables are collinear.\n",
      "  warnings.warn(\"Variables are collinear.\")\n",
      "/usr/local/lib/python3.5/dist-packages/sklearn/discriminant_analysis.py:387: UserWarning: Variables are collinear.\n",
      "  warnings.warn(\"Variables are collinear.\")\n",
      "/usr/local/lib/python3.5/dist-packages/sklearn/discriminant_analysis.py:387: UserWarning: Variables are collinear.\n",
      "  warnings.warn(\"Variables are collinear.\")\n",
      "/usr/local/lib/python3.5/dist-packages/sklearn/discriminant_analysis.py:387: UserWarning: Variables are collinear.\n",
      "  warnings.warn(\"Variables are collinear.\")\n",
      "/usr/local/lib/python3.5/dist-packages/sklearn/discriminant_analysis.py:387: UserWarning: Variables are collinear.\n",
      "  warnings.warn(\"Variables are collinear.\")\n",
      "/usr/local/lib/python3.5/dist-packages/sklearn/discriminant_analysis.py:387: UserWarning: Variables are collinear.\n",
      "  warnings.warn(\"Variables are collinear.\")\n",
      "/usr/local/lib/python3.5/dist-packages/sklearn/discriminant_analysis.py:387: UserWarning: Variables are collinear.\n",
      "  warnings.warn(\"Variables are collinear.\")\n"
     ]
    },
    {
     "data": {
      "image/png": "[encoded data removed]",
      "text/plain": [
       "<matplotlib.figure.Figure at 0x7f61a2b728d0>"
      ]
     },
     "metadata": {},
     "output_type": "display_data"
    },
    {
     "data": {
      "text/html": [
       "<div>\n",
       "<table border=\"1\" class=\"dataframe\">\n",
       "  <thead>\n",
       "    <tr style=\"text-align: right;\">\n",
       "      <th></th>\n",
       "      <th>Classifier</th>\n",
       "      <th>Accuracy</th>\n",
       "      <th>Logloss</th>\n",
       "    </tr>\n",
       "  </thead>\n",
       "  <tbody>\n",
       "    <tr>\n",
       "      <th>0</th>\n",
       "      <td>LinearDiscriminantAnalysis</td>\n",
       "      <td>0.613735</td>\n",
       "      <td>0.651594</td>\n",
       "    </tr>\n",
       "    <tr>\n",
       "      <th>0</th>\n",
       "      <td>LogisticRegression</td>\n",
       "      <td>0.613152</td>\n",
       "      <td>0.650548</td>\n",
       "    </tr>\n",
       "    <tr>\n",
       "      <th>0</th>\n",
       "      <td>MultinomialNB</td>\n",
       "      <td>0.596732</td>\n",
       "      <td>0.860154</td>\n",
       "    </tr>\n",
       "    <tr>\n",
       "      <th>0</th>\n",
       "      <td>GradientBoostingClassifier</td>\n",
       "      <td>0.613969</td>\n",
       "      <td>0.649887</td>\n",
       "    </tr>\n",
       "    <tr>\n",
       "      <th>0</th>\n",
       "      <td>avg</td>\n",
       "      <td>0.614786</td>\n",
       "      <td>0.654556</td>\n",
       "    </tr>\n",
       "    <tr>\n",
       "      <th>0</th>\n",
       "      <td>AdaBoostClassifier</td>\n",
       "      <td>0.614864</td>\n",
       "      <td>0.690520</td>\n",
       "    </tr>\n",
       "  </tbody>\n",
       "</table>\n",
       "</div>"
      ],
      "text/plain": [
       "                   Classifier  Accuracy   Logloss\n",
       "0  LinearDiscriminantAnalysis  0.613735  0.651594\n",
       "0          LogisticRegression  0.613152  0.650548\n",
       "0               MultinomialNB  0.596732  0.860154\n",
       "0  GradientBoostingClassifier  0.613969  0.649887\n",
       "0                         avg  0.614786  0.654556\n",
       "0          AdaBoostClassifier  0.614864  0.690520"
      ]
     },
     "execution_count": 132,
     "metadata": {},
     "output_type": "execute_result"
    }
   ],
   "source": [
    "# rf = RandomForestClassifier()\n",
    "\n",
    "import seaborn as sns\n",
    "from sklearn.ensemble import ExtraTreesClassifier\n",
    "\n",
    "classifiers = [\n",
    "#     KNeighborsClassifier(3),\n",
    "#     SVC(probability=True),\n",
    "#     DecisionTreeClassifier(),\n",
    "#     RandomForestClassifier(),\n",
    "    AdaBoostClassifier(),\n",
    "#     ExtraTreesClassifier(),\n",
    "    GradientBoostingClassifier(),\n",
    "#     GaussianNB(),\n",
    "    MultinomialNB(),\n",
    "    LinearDiscriminantAnalysis(),\n",
    "#     QuadraticDiscriminantAnalysis(),\n",
    "    LogisticRegression()\n",
    "]\n",
    "# classifiers = [rf]\n",
    "n_splits = 10\n",
    "sss = StratifiedShuffleSplit(n_splits=n_splits, test_size=0.1, random_state=0)\n",
    "acc_dict = {}\n",
    "log_cols = [\"Classifier\", \"Accuracy\", \"Logloss\"]\n",
    "log      = pd.DataFrame(columns=log_cols)\n",
    "\n",
    "\n",
    "for train_index, test_index in sss.split(X, y):\n",
    "    X_train, X_test = X[train_index], X[test_index]\n",
    "    y_train, y_test = y[train_index], y[test_index]\n",
    "    avg_pred_proba = np.zeros((len(test_index), 2))\n",
    "    avg_pred = np.zeros(len(test_index))\n",
    "    for clf in classifiers:\n",
    "        name = clf.__class__.__name__\n",
    "        clf.fit(X_train, y_train)\n",
    "        train_predictions = clf.predict(X_test)\n",
    "        acc = accuracy_score(y_test, train_predictions)\n",
    "        avg_pred += train_predictions\n",
    "        train_predictions_proba = clf.predict_proba(X_test)\n",
    "        avg_pred_proba += train_predictions_proba\n",
    "        logloss = log_loss(y_test, train_predictions_proba)\n",
    "        if name in acc_dict:\n",
    "            acc_dict[name] += np.array([acc, logloss])\n",
    "        else:\n",
    "            acc_dict[name] = np.array([acc, logloss])\n",
    "    avg_pred_proba = avg_pred_proba / len(classifiers)\n",
    "    logloss = log_loss(y_test, avg_pred_proba)\n",
    "    avg_pred = avg_pred > (len(classifiers) / 2)\n",
    "    acc = accuracy_score(y_test, avg_pred)\n",
    "    name = 'avg'\n",
    "    if name in acc_dict:\n",
    "        acc_dict[name] += np.array([acc, logloss])\n",
    "    else:\n",
    "        acc_dict[name] = np.array([acc, logloss])\n",
    "            \n",
    "\n",
    "#平均\n",
    "for clf in acc_dict:\n",
    "    acc_dict[clf] = acc_dict[clf] / n_splits\n",
    "    log_entry = pd.DataFrame([[clf, acc_dict[clf][0], acc_dict[clf][1]]], columns=log_cols)\n",
    "    log = log.append(log_entry)\n",
    "    \n",
    "plt.xlabel('Logloss')\n",
    "plt.title('Classifier Logloss')\n",
    "\n",
    "sns.set_color_codes(\"muted\")\n",
    "sns.barplot(x='Logloss', y='Classifier', data=log[[\"Classifier\", \"Logloss\"]], color=\"b\")\n",
    "plt.show()\n",
    "log"
   ]
  },
  {
   "cell_type": "code",
   "execution_count": 163,
   "metadata": {},
   "outputs": [
    {
     "data": {
      "image/png": "[encoded data removed]",
      "text/plain": [
       "<matplotlib.figure.Figure at 0x7f61a27b6240>"
      ]
     },
     "metadata": {},
     "output_type": "display_data"
    },
    {
     "data": {
      "text/html": [
       "<div>\n",
       "<table border=\"1\" class=\"dataframe\">\n",
       "  <thead>\n",
       "    <tr style=\"text-align: right;\">\n",
       "      <th></th>\n",
       "      <th>Classifier</th>\n",
       "      <th>Accuracy</th>\n",
       "      <th>Logloss</th>\n",
       "    </tr>\n",
       "  </thead>\n",
       "  <tbody>\n",
       "    <tr>\n",
       "      <th>0</th>\n",
       "      <td>LinearDiscriminantAnalysis</td>\n",
       "      <td>0.613735</td>\n",
       "      <td>0.651594</td>\n",
       "    </tr>\n",
       "    <tr>\n",
       "      <th>0</th>\n",
       "      <td>LogisticRegression</td>\n",
       "      <td>0.613152</td>\n",
       "      <td>0.650548</td>\n",
       "    </tr>\n",
       "    <tr>\n",
       "      <th>0</th>\n",
       "      <td>MultinomialNB</td>\n",
       "      <td>0.596732</td>\n",
       "      <td>0.860154</td>\n",
       "    </tr>\n",
       "    <tr>\n",
       "      <th>0</th>\n",
       "      <td>GradientBoostingClassifier</td>\n",
       "      <td>0.613969</td>\n",
       "      <td>0.649887</td>\n",
       "    </tr>\n",
       "    <tr>\n",
       "      <th>0</th>\n",
       "      <td>avg</td>\n",
       "      <td>0.614786</td>\n",
       "      <td>0.654556</td>\n",
       "    </tr>\n",
       "    <tr>\n",
       "      <th>0</th>\n",
       "      <td>AdaBoostClassifier</td>\n",
       "      <td>0.614864</td>\n",
       "      <td>0.690520</td>\n",
       "    </tr>\n",
       "    <tr>\n",
       "      <th>0</th>\n",
       "      <td>My_LogisticRegression</td>\n",
       "      <td>0.610506</td>\n",
       "      <td>0.660388</td>\n",
       "    </tr>\n",
       "  </tbody>\n",
       "</table>\n",
       "</div>"
      ],
      "text/plain": [
       "                   Classifier  Accuracy   Logloss\n",
       "0  LinearDiscriminantAnalysis  0.613735  0.651594\n",
       "0          LogisticRegression  0.613152  0.650548\n",
       "0               MultinomialNB  0.596732  0.860154\n",
       "0  GradientBoostingClassifier  0.613969  0.649887\n",
       "0                         avg  0.614786  0.654556\n",
       "0          AdaBoostClassifier  0.614864  0.690520\n",
       "0       My_LogisticRegression  0.610506  0.660388"
      ]
     },
     "execution_count": 163,
     "metadata": {},
     "output_type": "execute_result"
    }
   ],
   "source": [
    "log_entry = pd.DataFrame([[\"My_LogisticRegression\", acc, logloss]], columns=log_cols)\n",
    "log = log.append(log_entry)\n",
    "sns.barplot(x='Logloss', y='Classifier', data=log[[\"Classifier\", \"Logloss\"]], color=\"b\")\n",
    "plt.show()\n",
    "log"
   ]
  },
  {
   "cell_type": "code",
   "execution_count": 66,
   "metadata": {
    "collapsed": true
   },
   "outputs": [],
   "source": [
    "candidate_classifier = LogisticRegression()\n",
    "candidate_classifier.fit(X, y)\n",
    "result = candidate_classifier.predict_proba(test_data.values)\n",
    "\n",
    "# outPutFile(shot_ids, result.T[1], \"LR\")"
   ]
  },
  {
   "cell_type": "code",
   "execution_count": 67,
   "metadata": {},
   "outputs": [
    {
     "data": {
      "text/plain": [
       "array([[ 0.56957688,  0.43042312],\n",
       "       [ 0.5594357 ,  0.4405643 ],\n",
       "       [ 0.40898715,  0.59101285],\n",
       "       ..., \n",
       "       [ 0.61699995,  0.38300005],\n",
       "       [ 0.59591749,  0.40408251],\n",
       "       [ 0.6850868 ,  0.3149132 ]])"
      ]
     },
     "execution_count": 67,
     "metadata": {},
     "output_type": "execute_result"
    }
   ],
   "source": [
    "result"
   ]
  },
  {
   "cell_type": "code",
   "execution_count": 80,
   "metadata": {
    "collapsed": true
   },
   "outputs": [
    {
     "name": "stdout",
     "output_type": "stream",
     "text": [
      "[[ 0.50114003  0.49885997]\n",
      " [ 0.50273416  0.49726584]\n",
      " [ 0.49797181  0.50202819]\n",
      " ..., \n",
      " [ 0.50172155  0.49827845]\n",
      " [ 0.50121893  0.49878107]\n",
      " [ 0.5040907   0.4959093 ]]\n",
      "[[ 0.7780259   0.2219741 ]\n",
      " [ 0.11479339  0.88520661]\n",
      " [ 0.08180603  0.91819397]\n",
      " ..., \n",
      " [ 0.50141183  0.49858817]\n",
      " [ 0.39819359  0.60180641]\n",
      " [ 0.12203397  0.87796603]]\n"
     ]
    },
    {
     "name": "stderr",
     "output_type": "stream",
     "text": [
      "/usr/local/lib/python3.5/dist-packages/sklearn/discriminant_analysis.py:387: UserWarning: Variables are collinear.\n",
      "  warnings.warn(\"Variables are collinear.\")\n"
     ]
    },
    {
     "name": "stdout",
     "output_type": "stream",
     "text": [
      "[[ 0.57485365  0.42514635]\n",
      " [ 0.56657696  0.43342304]\n",
      " [ 0.40381328  0.59618672]\n",
      " ..., \n",
      " [ 0.62079545  0.37920455]\n",
      " [ 0.59902599  0.40097401]\n",
      " [ 0.69804851  0.30195149]]\n",
      "[[ 0.56957688  0.43042312]\n",
      " [ 0.5594357   0.4405643 ]\n",
      " [ 0.40898715  0.59101285]\n",
      " ..., \n",
      " [ 0.61699995  0.38300005]\n",
      " [ 0.59591749  0.40408251]\n",
      " [ 0.6850868   0.3149132 ]]\n"
     ]
    }
   ],
   "source": [
    "#averaging\n",
    "avg = None\n",
    "for candidate_classifier in classifiers:\n",
    "    candidate_classifier.fit(X, y)\n",
    "    result = candidate_classifier.predict_proba(test_data.values)\n",
    "#     print(result)\n",
    "    if avg is None:\n",
    "        avg = result\n",
    "    else:\n",
    "        avg += result\n",
    "avg = avg / len(classifiers)"
   ]
  },
  {
   "cell_type": "code",
   "execution_count": 87,
   "metadata": {},
   "outputs": [
    {
     "data": {
      "text/plain": [
       "array([[ 0.60589912,  0.39410088],\n",
       "       [ 0.43588505,  0.56411495],\n",
       "       [ 0.34814457,  0.65185543],\n",
       "       ..., \n",
       "       [ 0.5602322 ,  0.4397678 ],\n",
       "       [ 0.523589  ,  0.476411  ],\n",
       "       [ 0.50231499,  0.49768501]])"
      ]
     },
     "execution_count": 87,
     "metadata": {},
     "output_type": "execute_result"
    }
   ],
   "source": [
    "outPutFile(shot_ids, result.T[1], \"AVG\")\n",
    "avg"
   ]
  },
  {
   "cell_type": "code",
   "execution_count": 144,
   "metadata": {},
   "outputs": [
    {
     "name": "stdout",
     "output_type": "stream",
     "text": [
      "Python 3.5.2 (default, Nov 17 2016, 17:05:23) \n",
      "[GCC 5.4.0 20160609] on linux\n"
     ]
    }
   ],
   "source": []
  }
 ],
 "metadata": {
  "kernelspec": {
   "display_name": "Python 3",
   "language": "python",
   "name": "python3"
  },
  "language_info": {
   "codemirror_mode": {
    "name": "ipython",
    "version": 3
   },
   "file_extension": ".py",
   "mimetype": "text/x-python",
   "name": "python",
   "nbconvert_exporter": "python",
   "pygments_lexer": "ipython3",
   "version": "3.5.2"
  }
 },
 "nbformat": 4,
 "nbformat_minor": 1
}
