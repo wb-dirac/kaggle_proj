{
 "metadata": {
  "_change_revision": 0,
  "_is_fork": false,
  "kernelspec": {
   "display_name": "Python 3",
   "language": "python",
   "name": "python3"
  },
  "language_info": {
   "codemirror_mode": {
    "name": "ipython",
    "version": 3
   },
   "file_extension": ".py",
   "mimetype": "text/x-python",
   "name": "python",
   "nbconvert_exporter": "python",
   "pygments_lexer": "ipython3",
   "version": "3.6.1"
  },
  "name": "",
  "signature": "sha256:32d1ddc30f7364bb2ca3145746366a2b8f6fffac48ac6301bb780f258fd361b7"
 },
 "nbformat": 3,
 "nbformat_minor": 0,
 "worksheets": [
  {
   "cells": [
    {
     "cell_type": "markdown",
     "metadata": {
      "_cell_guid": "25b1e1db-8bc5-7029-f719-91da523bd121",
      "_uuid": "de352ba647554b5e9d4dd8522aba4a675f5d12fc"
     },
     "source": [
      "## Introduction ##\n",
      "\n",
      "This is my first work of machine learning. the notebook is written in python and has inspired from [\"Exploring Survival on Titanic\" by Megan Risdal, a Kernel in R on Kaggle][1].\n",
      "\n",
      "\n",
      "  [1]: https://www.kaggle.com/mrisdal/titanic/exploring-survival-on-the-titanic"
     ]
    },
    {
     "cell_type": "code",
     "collapsed": false,
     "input": [
      "%matplotlib inline\n",
      "import numpy as np\n",
      "import pandas as pd\n",
      "import re as re\n",
      "\n",
      "train = pd.read_csv('../data/train.csv', header = 0, dtype={'Age': np.float64})\n",
      "test  = pd.read_csv('../data/test.csv' , header = 0, dtype={'Age': np.float64})\n",
      "full_data = [train, test]\n",
      "\n",
      "print (train.info())"
     ],
     "language": "python",
     "metadata": {
      "_cell_guid": "2ce68358-02ec-556d-ba88-e773a50bc18b",
      "_uuid": "6e51fd2898cf5495cd42203126ae350cddee783c"
     },
     "outputs": [
      {
       "output_type": "stream",
       "stream": "stdout",
       "text": [
        "<class 'pandas.core.frame.DataFrame'>\n",
        "RangeIndex: 891 entries, 0 to 890\n",
        "Data columns (total 12 columns):\n",
        "PassengerId    891 non-null int64\n",
        "Survived       891 non-null int64\n",
        "Pclass         891 non-null int64\n",
        "Name           891 non-null object\n",
        "Sex            891 non-null object\n",
        "Age            714 non-null float64\n",
        "SibSp          891 non-null int64\n",
        "Parch          891 non-null int64\n",
        "Ticket         891 non-null object\n",
        "Fare           891 non-null float64\n",
        "Cabin          204 non-null object\n",
        "Embarked       889 non-null object\n",
        "dtypes: float64(2), int64(5), object(5)\n",
        "memory usage: 83.6+ KB\n",
        "None\n"
       ]
      }
     ],
     "prompt_number": 2
    },
    {
     "cell_type": "heading",
     "level": 1,
     "metadata": {
      "_cell_guid": "f9595646-65c9-6fc4-395f-0befc4d122ce",
      "_uuid": "bc1ebea05366ed714f98245a577ed178dc6462ac"
     },
     "source": [
      "Feature Engineering #"
     ]
    },
    {
     "cell_type": "markdown",
     "metadata": {
      "_cell_guid": "9b4c278b-aaca-e92c-ba77-b9b48379d1f1",
      "_uuid": "81e56660139e15d461d52778b2a43b49d6a62053"
     },
     "source": [
      "## 1. Pclass ##\n",
      "there is no missing value on this feature and already a numerical value. so let's check it's impact on our train set."
     ]
    },
    {
     "cell_type": "code",
     "collapsed": false,
     "input": [
      "print (train[['Pclass', 'Survived']].groupby(['Pclass'], as_index=False).mean())"
     ],
     "language": "python",
     "metadata": {
      "_cell_guid": "4680d950-cf7d-a6ae-e813-535e2247d88e",
      "_uuid": "147c0f71852bf6ab61b0351bcf3f99d86b19e006"
     },
     "outputs": [
      {
       "output_type": "stream",
       "stream": "stdout",
       "text": [
        "   Pclass  Survived\n",
        "0       1  0.629630\n",
        "1       2  0.472826\n",
        "2       3  0.242363\n"
       ]
      }
     ],
     "prompt_number": 3
    },
    {
     "cell_type": "heading",
     "level": 2,
     "metadata": {
      "_cell_guid": "5e70f81c-d4e2-1823-f0ba-a7c9b46984ff",
      "_uuid": "f9aba62f2034f77a4f913a5dfcab5b7c1c655662"
     },
     "source": [
      "2. Sex ##"
     ]
    },
    {
     "cell_type": "code",
     "collapsed": false,
     "input": [
      "print (train[[\"Sex\", \"Survived\"]].groupby(['Sex'], as_index=False).mean())"
     ],
     "language": "python",
     "metadata": {
      "_cell_guid": "6729681d-7915-1631-78d2-ddf3c35a424c",
      "_uuid": "8060d61ab54b7af7417711c3a51dae2397403d2f"
     },
     "outputs": [
      {
       "output_type": "stream",
       "stream": "stdout",
       "text": [
        "      Sex  Survived\n",
        "0  female  0.742038\n",
        "1    male  0.188908\n"
       ]
      }
     ],
     "prompt_number": 4
    },
    {
     "cell_type": "markdown",
     "metadata": {
      "_cell_guid": "7c58b7ee-d6a1-0cc9-2346-81c47846a54a",
      "_uuid": "cd4345bd9f2f44d188ade8f15259ee56e38343c7"
     },
     "source": [
      "## 3. SibSp and Parch ##\n",
      "With the number of siblings/spouse and the number of children/parents we can create new feature called Family Size."
     ]
    },
    {
     "cell_type": "code",
     "collapsed": false,
     "input": [
      "for dataset in full_data:\n",
      "    dataset['FamilySize'] = dataset['SibSp'] + dataset['Parch'] + 1\n",
      "print (train[['FamilySize', 'Survived']].groupby(['FamilySize'], as_index=False).mean())"
     ],
     "language": "python",
     "metadata": {
      "_cell_guid": "1a537f10-7cec-d0b7-8a34-fa9975655190",
      "_uuid": "0f460858bed1bb53c297df815d2bd605d2884a0a"
     },
     "outputs": [
      {
       "output_type": "stream",
       "stream": "stdout",
       "text": [
        "   FamilySize  Survived\n",
        "0           1  0.303538\n",
        "1           2  0.552795\n",
        "2           3  0.578431\n",
        "3           4  0.724138\n",
        "4           5  0.200000\n",
        "5           6  0.136364\n",
        "6           7  0.333333\n",
        "7           8  0.000000\n",
        "8          11  0.000000\n"
       ]
      }
     ],
     "prompt_number": 5
    },
    {
     "cell_type": "markdown",
     "metadata": {
      "_cell_guid": "e4861d3e-10db-1a23-8728-44e4d5251844",
      "_uuid": "fbfa9aedce829ed0ca4fcd0160b702c2cb4855cb"
     },
     "source": [
      "it seems has a good effect on our prediction but let's go further and categorize people to check whether they are alone in this ship or not."
     ]
    },
    {
     "cell_type": "code",
     "collapsed": false,
     "input": [
      "for dataset in full_data:\n",
      "    dataset['IsAlone'] = 0\n",
      "    dataset.loc[dataset['FamilySize'] == 1, 'IsAlone'] = 1\n",
      "print (train[['IsAlone', 'Survived']].groupby(['IsAlone'], as_index=False).mean())"
     ],
     "language": "python",
     "metadata": {
      "_cell_guid": "8c35e945-c928-e3bc-bd9c-d6ddb287e4c9",
      "_uuid": "56730a253d805e9b415e582a8f7461481856cec1"
     },
     "outputs": [
      {
       "output_type": "stream",
       "stream": "stdout",
       "text": [
        "   IsAlone  Survived\n",
        "0        0  0.505650\n",
        "1        1  0.303538\n"
       ]
      }
     ],
     "prompt_number": 6
    },
    {
     "cell_type": "markdown",
     "metadata": {
      "_cell_guid": "2780ca4e-7923-b845-0b6b-5f68a45f6b93",
      "_uuid": "50efaf90ba650a74cf8a2f47361039578f64970a"
     },
     "source": [
      "good! the impact is considerable."
     ]
    },
    {
     "cell_type": "markdown",
     "metadata": {
      "_cell_guid": "8aa419c0-6614-7efc-7797-97f4a5158b19",
      "_uuid": "0be3d1b9eb530de58ebbfd86cf6081a7ace3815c"
     },
     "source": [
      "## 4. Embarked ##\n",
      "the embarked feature has some missing value. and we try to fill those with the most occurred value ( 'S' )."
     ]
    },
    {
     "cell_type": "code",
     "collapsed": false,
     "input": [
      "for dataset in full_data:\n",
      "    dataset['Embarked'] = dataset['Embarked'].fillna('S')\n",
      "print (train[['Embarked', 'Survived']].groupby(['Embarked'], as_index=False).mean())"
     ],
     "language": "python",
     "metadata": {
      "_cell_guid": "0e70e9af-d7cc-8c40-b7d4-2643889c376d",
      "_uuid": "72b48dd2d4d1b613c6ebf84d79693a099033314f"
     },
     "outputs": [
      {
       "output_type": "stream",
       "stream": "stdout",
       "text": [
        "  Embarked  Survived\n",
        "0        C  0.553571\n",
        "1        Q  0.389610\n",
        "2        S  0.339009\n"
       ]
      }
     ],
     "prompt_number": 7
    },
    {
     "cell_type": "markdown",
     "metadata": {
      "_cell_guid": "e08c9ee8-d6d1-99b7-38bd-f0042c18a5d9",
      "_uuid": "99753c8ff3e4528925d6ba53724a1b597acb0951"
     },
     "source": [
      "## 5. Fare ##\n",
      "Fare also has some missing value and we will replace it with the median. then we categorize it into 4 ranges."
     ]
    },
    {
     "cell_type": "code",
     "collapsed": false,
     "input": [
      "for dataset in full_data:\n",
      "    dataset['Fare'] = dataset['Fare'].fillna(train['Fare'].median())\n",
      "train['CategoricalFare'] = pd.qcut(train['Fare'], 4)\n",
      "print (train[['CategoricalFare', 'Survived']].groupby(['CategoricalFare'], as_index=False).mean())"
     ],
     "language": "python",
     "metadata": {
      "_cell_guid": "a21335bd-4e8d-66e8-e6a5-5d2173b72d3b",
      "_uuid": "6eda00639658439532a9f7d9a2b299cbec91db55"
     },
     "outputs": [
      {
       "output_type": "stream",
       "stream": "stdout",
       "text": [
        "  CategoricalFare  Survived\n",
        "0       [0, 7.91]  0.197309\n",
        "1  (7.91, 14.454]  0.303571\n",
        "2    (14.454, 31]  0.454955\n",
        "3   (31, 512.329]  0.581081\n"
       ]
      }
     ],
     "prompt_number": 8
    },
    {
     "cell_type": "markdown",
     "metadata": {
      "_cell_guid": "ec8d1b22-a95f-9f16-77ab-7b60d2103852",
      "_uuid": "13a3fbab3a10f26c3f9af4e1723885bea8890cfc"
     },
     "source": [
      "## 6. Age ##\n",
      "we have plenty of missing values in this feature. # generate random numbers between (mean - std) and (mean + std).\n",
      "then we categorize age into 5 range."
     ]
    },
    {
     "cell_type": "code",
     "collapsed": false,
     "input": [
      "for dataset in full_data:\n",
      "    age_avg \t   = dataset['Age'].mean()\n",
      "    age_std \t   = dataset['Age'].std()\n",
      "    age_null_count = dataset['Age'].isnull().sum()\n",
      "    \n",
      "    age_null_random_list = np.random.randint(age_avg - age_std, age_avg + age_std, size=age_null_count)\n",
      "    dataset['Age'][np.isnan(dataset['Age'])] = age_null_random_list\n",
      "    dataset['Age'] = dataset['Age'].astype(int)\n",
      "    \n",
      "train['CategoricalAge'] = pd.cut(train['Age'], 5)\n",
      "\n",
      "print (train[['CategoricalAge', 'Survived']].groupby(['CategoricalAge'], as_index=False).mean())"
     ],
     "language": "python",
     "metadata": {
      "_cell_guid": "b90c2870-ce5d-ae0e-a33d-59e35445500e",
      "_uuid": "5e6cd94d7f614e999684b84f03eb891e306ac7d3"
     },
     "outputs": [
      {
       "output_type": "stream",
       "stream": "stdout",
       "text": [
        "  CategoricalAge  Survived\n",
        "0    (-0.08, 16]  0.517241\n",
        "1       (16, 32]  0.346067\n",
        "2       (32, 48]  0.388000\n",
        "3       (48, 64]  0.434783\n",
        "4       (64, 80]  0.090909\n"
       ]
      },
      {
       "output_type": "stream",
       "stream": "stderr",
       "text": [
        "-c:7: SettingWithCopyWarning: \n",
        "A value is trying to be set on a copy of a slice from a DataFrame\n",
        "\n",
        "See the caveats in the documentation: http://pandas.pydata.org/pandas-docs/stable/indexing.html#indexing-view-versus-copy\n"
       ]
      }
     ],
     "prompt_number": 9
    },
    {
     "cell_type": "markdown",
     "metadata": {
      "_cell_guid": "bd25ec3f-b601-c1cc-d701-991fac1621f9",
      "_uuid": "9949ca078dddfdd50bd40d66fadb8167512cc0f6"
     },
     "source": [
      "## 7. Name ##\n",
      "inside this feature we can find the title of people."
     ]
    },
    {
     "cell_type": "code",
     "collapsed": false,
     "input": [
      "def get_title(name):\n",
      "\ttitle_search = re.search(' ([A-Za-z]+)\\.', name)\n",
      "\t# If the title exists, extract and return it.\n",
      "\tif title_search:\n",
      "\t\treturn title_search.group(1)\n",
      "\treturn \"\"\n",
      "\n",
      "for dataset in full_data:\n",
      "    dataset['Title'] = dataset['Name'].apply(get_title)\n",
      "\n",
      "print(pd.crosstab(train['Title'], train['Sex']))"
     ],
     "language": "python",
     "metadata": {
      "_cell_guid": "ad042f43-bfe0-ded0-4171-379d8caaa749",
      "_uuid": "a3e73fad5171f7a63328cdfb2abd55373ead0ec0"
     },
     "outputs": [
      {
       "output_type": "stream",
       "stream": "stdout",
       "text": [
        "Sex       female  male\n",
        "Title                 \n",
        "Capt           0     1\n",
        "Col            0     2\n",
        "Countess       1     0\n",
        "Don            0     1\n",
        "Dr             1     6\n",
        "Jonkheer       0     1\n",
        "Lady           1     0\n",
        "Major          0     2\n",
        "Master         0    40\n",
        "Miss         182     0\n",
        "Mlle           2     0\n",
        "Mme            1     0\n",
        "Mr             0   517\n",
        "Mrs          125     0\n",
        "Ms             1     0\n",
        "Rev            0     6\n",
        "Sir            0     1\n"
       ]
      }
     ],
     "prompt_number": 10
    },
    {
     "cell_type": "markdown",
     "metadata": {
      "_cell_guid": "ca5fff8c-7a0d-6c18-2173-b8df6293c50a",
      "_uuid": "ba0804def8c17e64e56cd62443903e57f513c4af"
     },
     "source": [
      " so we have titles. let's categorize it and check the title impact on survival rate."
     ]
    },
    {
     "cell_type": "code",
     "collapsed": false,
     "input": [
      "for dataset in full_data:\n",
      "    dataset['Title'] = dataset['Title'].replace(['Lady', 'Countess','Capt', 'Col',\\\n",
      " \t'Don', 'Dr', 'Major', 'Rev', 'Sir', 'Jonkheer', 'Dona'], 'Rare')\n",
      "\n",
      "    dataset['Title'] = dataset['Title'].replace('Mlle', 'Miss')\n",
      "    dataset['Title'] = dataset['Title'].replace('Ms', 'Miss')\n",
      "    dataset['Title'] = dataset['Title'].replace('Mme', 'Mrs')\n",
      "\n",
      "print (train[['Title', 'Survived']].groupby(['Title'], as_index=False).mean())"
     ],
     "language": "python",
     "metadata": {
      "_cell_guid": "8357238b-98fe-632a-acd5-33674a6132ce",
      "_uuid": "ad58ab0e64a8404d2ef25bcb9e86300e3faad0bd"
     },
     "outputs": [
      {
       "output_type": "stream",
       "stream": "stdout",
       "text": [
        "    Title  Survived\n",
        "0  Master  0.575000\n",
        "1    Miss  0.702703\n",
        "2      Mr  0.156673\n",
        "3     Mrs  0.793651\n",
        "4    Rare  0.347826\n"
       ]
      }
     ],
     "prompt_number": 11
    },
    {
     "cell_type": "markdown",
     "metadata": {
      "_cell_guid": "68fa2057-e27a-e252-0d1b-869c00a303ba",
      "_uuid": "8823dcd2c264c66ab458f8d7bd5a8363de5b0db2"
     },
     "source": [
      "# Data Cleaning #\n",
      "great! now let's clean our data and map our features into numerical values."
     ]
    },
    {
     "cell_type": "code",
     "collapsed": false,
     "input": [
      "for dataset in full_data:\n",
      "    # Mapping Sex\n",
      "    dataset['Sex'] = dataset['Sex'].map( {'female': 0, 'male': 1} ).astype(int)\n",
      "    \n",
      "    # Mapping titles\n",
      "    title_mapping = {\"Mr\": 1, \"Miss\": 2, \"Mrs\": 3, \"Master\": 4, \"Rare\": 5}\n",
      "    dataset['Title'] = dataset['Title'].map(title_mapping)\n",
      "    dataset['Title'] = dataset['Title'].fillna(0)\n",
      "    \n",
      "    # Mapping Embarked\n",
      "    dataset['Embarked'] = dataset['Embarked'].map( {'S': 0, 'C': 1, 'Q': 2} ).astype(int)\n",
      "    \n",
      "    # Mapping Fare\n",
      "    dataset.loc[ dataset['Fare'] <= 7.91, 'Fare'] \t\t\t\t\t\t        = 0\n",
      "    dataset.loc[(dataset['Fare'] > 7.91) & (dataset['Fare'] <= 14.454), 'Fare'] = 1\n",
      "    dataset.loc[(dataset['Fare'] > 14.454) & (dataset['Fare'] <= 31), 'Fare']   = 2\n",
      "    dataset.loc[ dataset['Fare'] > 31, 'Fare'] \t\t\t\t\t\t\t        = 3\n",
      "    dataset['Fare'] = dataset['Fare'].astype(int)\n",
      "    \n",
      "    # Mapping Age\n",
      "    dataset.loc[ dataset['Age'] <= 16, 'Age'] \t\t\t\t\t       = 0\n",
      "    dataset.loc[(dataset['Age'] > 16) & (dataset['Age'] <= 32), 'Age'] = 1\n",
      "    dataset.loc[(dataset['Age'] > 32) & (dataset['Age'] <= 48), 'Age'] = 2\n",
      "    dataset.loc[(dataset['Age'] > 48) & (dataset['Age'] <= 64), 'Age'] = 3\n",
      "    dataset.loc[ dataset['Age'] > 64, 'Age']                           = 4\n",
      "\n",
      "# Feature Selection\n",
      "drop_elements = ['PassengerId', 'Name', 'Ticket', 'Cabin', 'SibSp',\\\n",
      "                 'Parch', 'FamilySize']\n",
      "train = train.drop(drop_elements, axis = 1)\n",
      "train = train.drop(['CategoricalAge', 'CategoricalFare'], axis = 1)\n",
      "\n",
      "test  = test.drop(drop_elements, axis = 1)\n",
      "\n",
      "print (train.head(10))\n",
      "\n",
      "train = train.values\n",
      "test  = test.values"
     ],
     "language": "python",
     "metadata": {
      "_cell_guid": "2502bb70-ce6f-2497-7331-7d1f80521470",
      "_uuid": "8d2031329ce37393759c6842ed11dc028a598e86"
     },
     "outputs": [
      {
       "output_type": "stream",
       "stream": "stdout",
       "text": [
        "   Survived  Pclass  Sex  Age  Fare  Embarked  IsAlone  Title\n",
        "0         0       3    1    1     0         0        0      1\n",
        "1         1       1    0    2     3         1        0      3\n",
        "2         1       3    0    1     1         0        1      2\n",
        "3         1       1    0    2     3         0        0      3\n",
        "4         0       3    1    2     1         0        1      1\n",
        "5         0       3    1    1     1         2        1      1\n",
        "6         0       1    1    3     3         0        1      1\n",
        "7         0       3    1    0     2         0        0      4\n",
        "8         1       3    0    1     1         0        0      3\n",
        "9         1       2    0    0     2         1        0      3\n"
       ]
      }
     ],
     "prompt_number": 12
    },
    {
     "cell_type": "markdown",
     "metadata": {
      "_cell_guid": "8aaaf2bc-e282-79cc-008a-e2e801b51b07",
      "_uuid": "1e24fb9b36f270497656ee160710274dfdbbf45a"
     },
     "source": [
      "good! now we have a clean dataset and ready to predict. let's find which classifier works better on this dataset. "
     ]
    },
    {
     "cell_type": "heading",
     "level": 1,
     "metadata": {
      "_cell_guid": "23b55b45-572b-7276-32e7-8f7a0dcfd25e",
      "_uuid": "4442a9ad3267cd4e0091a469e9d571e6bc61aa9f"
     },
     "source": [
      "Classifier Comparison #"
     ]
    },
    {
     "cell_type": "code",
     "collapsed": false,
     "input": [
      "import matplotlib.pyplot as plt\n",
      "import seaborn as sns\n",
      "\n",
      "from sklearn.model_selection import StratifiedShuffleSplit\n",
      "from sklearn.metrics import accuracy_score, log_loss\n",
      "from sklearn.neighbors import KNeighborsClassifier\n",
      "from sklearn.svm import SVC\n",
      "from sklearn.tree import DecisionTreeClassifier\n",
      "from sklearn.ensemble import RandomForestClassifier, AdaBoostClassifier, GradientBoostingClassifier\n",
      "from sklearn.naive_bayes import GaussianNB\n",
      "from sklearn.discriminant_analysis import LinearDiscriminantAnalysis, QuadraticDiscriminantAnalysis\n",
      "from sklearn.linear_model import LogisticRegression\n",
      "\n",
      "classifiers = [\n",
      "    KNeighborsClassifier(3),\n",
      "    SVC(probability=True),\n",
      "    DecisionTreeClassifier(),\n",
      "    RandomForestClassifier(),\n",
      "\tAdaBoostClassifier(),\n",
      "    GradientBoostingClassifier(),\n",
      "    GaussianNB(),\n",
      "    LinearDiscriminantAnalysis(),\n",
      "    QuadraticDiscriminantAnalysis(),\n",
      "    LogisticRegression()]\n",
      "\n",
      "log_cols = [\"Classifier\", \"Accuracy\"]\n",
      "log \t = pd.DataFrame(columns=log_cols)\n",
      "\n",
      "sss = StratifiedShuffleSplit(n_splits=10, test_size=0.1, random_state=0)\n",
      "\n",
      "X = train[0::, 1::]\n",
      "y = train[0::, 0]\n",
      "\n",
      "acc_dict = {}\n",
      "\n",
      "for train_index, test_index in sss.split(X, y):\n",
      "\tX_train, X_test = X[train_index], X[test_index]\n",
      "\ty_train, y_test = y[train_index], y[test_index]\n",
      "\t\n",
      "\tfor clf in classifiers:\n",
      "\t\tname = clf.__class__.__name__\n",
      "\t\tclf.fit(X_train, y_train)\n",
      "\t\ttrain_predictions = clf.predict(X_test)\n",
      "\t\tacc = accuracy_score(y_test, train_predictions)\n",
      "\t\tif name in acc_dict:\n",
      "\t\t\tacc_dict[name] += acc\n",
      "\t\telse:\n",
      "\t\t\tacc_dict[name] = acc\n",
      "\n",
      "for clf in acc_dict:\n",
      "\tacc_dict[clf] = acc_dict[clf] / 10.0\n",
      "\tlog_entry = pd.DataFrame([[clf, acc_dict[clf]]], columns=log_cols)\n",
      "\tlog = log.append(log_entry)\n",
      "\n",
      "plt.xlabel('Accuracys')\n",
      "plt.title('Classifier Accuracy')\n",
      "\n",
      "sns.set_color_codes(\"muted\")\n",
      "sns.barplot(x='Accuracy', y='Classifier', data=log, color=\"b\")"
     ],
     "language": "python",
     "metadata": {
      "_cell_guid": "31ded30a-8de4-6507-e7f7-5805a0f1eaf1",
      "_uuid": "9e33029954265f640ec2b320b65634297272db0c"
     },
     "outputs": [
      {
       "metadata": {},
       "output_type": "pyout",
       "prompt_number": 18,
       "text": [
        "<matplotlib.axes._subplots.AxesSubplot at 0x7f1bc4813898>"
       ]
      },
      {
       "metadata": {},
       "output_type": "display_data",
       "png": "[encoded data removed]",
       "text": [
        "<matplotlib.figure.Figure at 0x7f1bc487a2b0>"
       ]
      }
     ],
     "prompt_number": 18
    },
    {
     "cell_type": "markdown",
     "metadata": {
      "_cell_guid": "438585cf-b7ad-73ba-49aa-87688ff21233",
      "_uuid": "0ce7b57d931d08f85e24855fc7ec928f911ec874"
     },
     "source": [
      "# Prediction #\n",
      "now we can use SVC classifier to predict our data."
     ]
    },
    {
     "cell_type": "code",
     "collapsed": false,
     "input": [
      "full_data[1].head()"
     ],
     "language": "python",
     "metadata": {
      "_uuid": "ac5671432bd70c1da28e6d06f4653242783dbfd2"
     },
     "outputs": [
      {
       "html": [
        "<div style=\"max-width:1500px;overflow:auto;\">\n",
        "<table border=\"1\" class=\"dataframe\">\n",
        "  <thead>\n",
        "    <tr style=\"text-align: right;\">\n",
        "      <th></th>\n",
        "      <th>PassengerId</th>\n",
        "      <th>Pclass</th>\n",
        "      <th>Name</th>\n",
        "      <th>Sex</th>\n",
        "      <th>Age</th>\n",
        "      <th>SibSp</th>\n",
        "      <th>Parch</th>\n",
        "      <th>Ticket</th>\n",
        "      <th>Fare</th>\n",
        "      <th>Cabin</th>\n",
        "      <th>Embarked</th>\n",
        "      <th>FamilySize</th>\n",
        "      <th>IsAlone</th>\n",
        "      <th>Title</th>\n",
        "    </tr>\n",
        "  </thead>\n",
        "  <tbody>\n",
        "    <tr>\n",
        "      <th>0</th>\n",
        "      <td>892</td>\n",
        "      <td>3</td>\n",
        "      <td>Kelly, Mr. James</td>\n",
        "      <td>1</td>\n",
        "      <td>2</td>\n",
        "      <td>0</td>\n",
        "      <td>0</td>\n",
        "      <td>330911</td>\n",
        "      <td>0</td>\n",
        "      <td>NaN</td>\n",
        "      <td>2</td>\n",
        "      <td>1</td>\n",
        "      <td>1</td>\n",
        "      <td>1</td>\n",
        "    </tr>\n",
        "    <tr>\n",
        "      <th>1</th>\n",
        "      <td>893</td>\n",
        "      <td>3</td>\n",
        "      <td>Wilkes, Mrs. James (Ellen Needs)</td>\n",
        "      <td>0</td>\n",
        "      <td>2</td>\n",
        "      <td>1</td>\n",
        "      <td>0</td>\n",
        "      <td>363272</td>\n",
        "      <td>0</td>\n",
        "      <td>NaN</td>\n",
        "      <td>0</td>\n",
        "      <td>2</td>\n",
        "      <td>0</td>\n",
        "      <td>3</td>\n",
        "    </tr>\n",
        "    <tr>\n",
        "      <th>2</th>\n",
        "      <td>894</td>\n",
        "      <td>2</td>\n",
        "      <td>Myles, Mr. Thomas Francis</td>\n",
        "      <td>1</td>\n",
        "      <td>3</td>\n",
        "      <td>0</td>\n",
        "      <td>0</td>\n",
        "      <td>240276</td>\n",
        "      <td>1</td>\n",
        "      <td>NaN</td>\n",
        "      <td>2</td>\n",
        "      <td>1</td>\n",
        "      <td>1</td>\n",
        "      <td>1</td>\n",
        "    </tr>\n",
        "    <tr>\n",
        "      <th>3</th>\n",
        "      <td>895</td>\n",
        "      <td>3</td>\n",
        "      <td>Wirz, Mr. Albert</td>\n",
        "      <td>1</td>\n",
        "      <td>1</td>\n",
        "      <td>0</td>\n",
        "      <td>0</td>\n",
        "      <td>315154</td>\n",
        "      <td>1</td>\n",
        "      <td>NaN</td>\n",
        "      <td>0</td>\n",
        "      <td>1</td>\n",
        "      <td>1</td>\n",
        "      <td>1</td>\n",
        "    </tr>\n",
        "    <tr>\n",
        "      <th>4</th>\n",
        "      <td>896</td>\n",
        "      <td>3</td>\n",
        "      <td>Hirvonen, Mrs. Alexander (Helga E Lindqvist)</td>\n",
        "      <td>0</td>\n",
        "      <td>1</td>\n",
        "      <td>1</td>\n",
        "      <td>1</td>\n",
        "      <td>3101298</td>\n",
        "      <td>1</td>\n",
        "      <td>NaN</td>\n",
        "      <td>0</td>\n",
        "      <td>3</td>\n",
        "      <td>0</td>\n",
        "      <td>3</td>\n",
        "    </tr>\n",
        "  </tbody>\n",
        "</table>\n",
        "</div>"
       ],
       "metadata": {},
       "output_type": "pyout",
       "prompt_number": 14,
       "text": [
        "   PassengerId  Pclass                                          Name  Sex  \\\n",
        "0          892       3                              Kelly, Mr. James    1   \n",
        "1          893       3              Wilkes, Mrs. James (Ellen Needs)    0   \n",
        "2          894       2                     Myles, Mr. Thomas Francis    1   \n",
        "3          895       3                              Wirz, Mr. Albert    1   \n",
        "4          896       3  Hirvonen, Mrs. Alexander (Helga E Lindqvist)    0   \n",
        "\n",
        "   Age  SibSp  Parch   Ticket  Fare Cabin  Embarked  FamilySize  IsAlone  \\\n",
        "0    2      0      0   330911     0   NaN         2           1        1   \n",
        "1    2      1      0   363272     0   NaN         0           2        0   \n",
        "2    3      0      0   240276     1   NaN         2           1        1   \n",
        "3    1      0      0   315154     1   NaN         0           1        1   \n",
        "4    1      1      1  3101298     1   NaN         0           3        0   \n",
        "\n",
        "   Title  \n",
        "0      1  \n",
        "1      3  \n",
        "2      1  \n",
        "3      1  \n",
        "4      3  "
       ]
      }
     ],
     "prompt_number": 14
    },
    {
     "cell_type": "code",
     "collapsed": false,
     "input": [
      "candidate_classifier = SVC()\n",
      "candidate_classifier.fit(train[0::, 1::], train[0::, 0])\n",
      "result = candidate_classifier.predict(test)\n",
      "\n",
      "id_list = full_data[1]['PassengerId']\n",
      "output = pd.DataFrame({'PassengerId': id_list, 'Survived': result})\n",
      "output.to_csv('../results/svm.csv', index=False)"
     ],
     "language": "python",
     "metadata": {
      "_cell_guid": "24967b57-732b-7180-bfd5-005beff75974",
      "_uuid": "2830a76e547bda52a02e2a77f798659d78ccab62"
     },
     "outputs": [],
     "prompt_number": 16
    },
    {
     "cell_type": "code",
     "collapsed": false,
     "input": [],
     "language": "python",
     "metadata": {},
     "outputs": []
    }
   ],
   "metadata": {}
  }
 ]
}