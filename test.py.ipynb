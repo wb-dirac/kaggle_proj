{
 "cells": [
  {
   "cell_type": "code",
   "execution_count": 36,
   "metadata": {},
   "outputs": [
    {
     "name": "stderr",
     "output_type": "stream",
     "text": [
      "/usr/local/lib/python3.5/dist-packages/sklearn/utils/validation.py:526: DataConversionWarning: A column-vector y was passed when a 1d array was expected. Please change the shape of y to (n_samples, ), for example using ravel().\n",
      "  y = column_or_1d(y, warn=True)\n"
     ]
    },
    {
     "data": {
      "image/png": "[encoded data removed]",
      "text/plain": [
       "<matplotlib.figure.Figure at 0x7ff5a99d18d0>"
      ]
     },
     "metadata": {},
     "output_type": "display_data"
    },
    {
     "data": {
      "image/png": "[encoded data removed]",
      "text/plain": [
       "<matplotlib.figure.Figure at 0x7ff5a98e9358>"
      ]
     },
     "metadata": {},
     "output_type": "display_data"
    }
   ],
   "source": [
    "import pandas as pd\n",
    "import matplotlib.pyplot as plt\n",
    "from matplotlib.colors import ListedColormap\n",
    "def loadDataSet():\n",
    "    data = pd.read_csv('data/testSet.txt', header=None, delimiter='\\t')\n",
    "    X = data[[0, 1]].values\n",
    "    y = data[[2]].values\n",
    "    return X, y\n",
    "def plotBestFit(classifier, X, y, resolution=0.02):\n",
    "    markers = ('s', 'x', 'o', '^', 'v')\n",
    "    colors = ('red', 'blue', 'lightgreen', 'gray', 'cyan')\n",
    "    cmap = ListedColormap(colors[:len(np.unique(y))])\n",
    "    \n",
    "    xcord1, ycord1 = X[np.where(y == 0)[0]].T\n",
    "    xcord2, ycord2 = X[np.where(y == 1)[0]].T\n",
    "    fig, ax = plt.subplots()\n",
    "    ax.scatter(xcord1, ycord1, s=30, c='red', marker='s')\n",
    "    ax.scatter(xcord2, ycord2, s=30, c='green')\n",
    "    #网格染色,画出决策区域\n",
    "    cmap = ListedColormap(colors[:len(np.unique(y))])\n",
    "    x1_max, x1_min = X[:, 0].max() + 1, X[:, 0].min() - 1\n",
    "    x2_max, x2_min = X[:, 1].max() + 1, X[:, 1].min() - 1\n",
    "    \n",
    "    xx1, xx2 = np.meshgrid(np.arange(x1_min, x1_max, resolution), \\\n",
    "                           np.arange(x2_min, x2_max, resolution))\n",
    "    Z = classifier.predict(np.array([xx1.ravel(), xx2.ravel()]).T)\n",
    "    Z = Z.reshape(xx1.shape)\n",
    "    plt.contourf(xx1, xx2, Z, alpha=0.4, cmap=cmap)\n",
    "    \n",
    "    plt.xlim(xx1.min(), xx1.max())\n",
    "    plt.ylim(xx2.min(), xx2.max())\n",
    "    plt.xlabel('X1'); plt.ylabel('X2')\n",
    "    plt.show()\n",
    "\n",
    "\n",
    "X, y = loadDataSet()\n",
    "from sklearn.linear_model.logistic import LogisticRegression\n",
    "sk_lr = LogisticRegression()\n",
    "sk_lr.fit(X, y)\n",
    "plotBestFit(sk_lr, X, y)"
   ]
  },
  {
   "cell_type": "code",
   "execution_count": 17,
   "metadata": {
    "collapsed": true
   },
   "outputs": [],
   "source": [
    "X, y = loadDataSet()\n",
    "import numpy as np"
   ]
  },
  {
   "cell_type": "code",
   "execution_count": 26,
   "metadata": {
    "collapsed": true
   },
   "outputs": [],
   "source": [
    "resolution = 0.2\n",
    "x1_max, x1_min = X[:, 0].max() + 1, X[:, 0].min() - 1\n",
    "x2_max, x2_min = X[:, 1].max() + 1, X[:, 1].min() - 1"
   ]
  },
  {
   "cell_type": "code",
   "execution_count": 31,
   "metadata": {
    "scrolled": true
   },
   "outputs": [
    {
     "data": {
      "text/plain": [
       "array([[ -4.181888,  -4.181888,  -4.181888, ...,  -4.181888,  -4.181888,\n",
       "         -4.181888],\n",
       "       [ -3.981888,  -3.981888,  -3.981888, ...,  -3.981888,  -3.981888,\n",
       "         -3.981888],\n",
       "       [ -3.781888,  -3.781888,  -3.781888, ...,  -3.781888,  -3.781888,\n",
       "         -3.781888],\n",
       "       ..., \n",
       "       [ 15.218112,  15.218112,  15.218112, ...,  15.218112,  15.218112,\n",
       "         15.218112],\n",
       "       [ 15.418112,  15.418112,  15.418112, ...,  15.418112,  15.418112,\n",
       "         15.418112],\n",
       "       [ 15.618112,  15.618112,  15.618112, ...,  15.618112,  15.618112,\n",
       "         15.618112]])"
      ]
     },
     "execution_count": 31,
     "metadata": {},
     "output_type": "execute_result"
    }
   ],
   "source": [
    "xx2"
   ]
  },
  {
   "cell_type": "markdown",
   "metadata": {},
   "source": [
    "$$ l(\\hat{\\theta} ) = E_{\\theta}\\left[ \\; L(\\theta, \\hat{\\theta}) \\; \\right] $$"
   ]
  },
  {
   "cell_type": "markdown",
   "metadata": {},
   "source": [
    "$$ e^{i\\pi}+1=0 $$\n",
    "$$ e^x = \\sum_{n=0}^\\infty{\\frac{x^n}{n!}}$$"
   ]
  }
 ],
 "metadata": {
  "kernelspec": {
   "display_name": "Python 3",
   "language": "python",
   "name": "python3"
  },
  "language_info": {
   "codemirror_mode": {
    "name": "ipython",
    "version": 3
   },
   "file_extension": ".py",
   "mimetype": "text/x-python",
   "name": "python",
   "nbconvert_exporter": "python",
   "pygments_lexer": "ipython3",
   "version": "3.5.2"
  }
 },
 "nbformat": 4,
 "nbformat_minor": 1
}
